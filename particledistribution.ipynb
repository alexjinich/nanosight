{
 "cells": [
  {
   "cell_type": "markdown",
   "metadata": {},
   "source": [
    "#### NanoSight Analysis"
   ]
  },
  {
   "cell_type": "markdown",
   "metadata": {},
   "source": [
    "alexjinich@gmail.com |\n",
    "Data must be BIDS-formatted & ExperimentSummary be the sole CSV in dir structure (see readme) | 11.22"
   ]
  },
  {
   "cell_type": "markdown",
   "metadata": {},
   "source": [
    "If you are missing a package use > pip install pkg on Terminal with same kernel"
   ]
  },
  {
   "cell_type": "code",
   "execution_count": 3,
   "metadata": {},
   "outputs": [],
   "source": [
    "import pandas as pd\n",
    "import numpy as np\n",
    "import matplotlib.pyplot as plt\n",
    "import bids\n",
    "import seaborn as sns\n",
    "from pathlib import Path\n",
    "import pingouin as pg"
   ]
  },
  {
   "cell_type": "markdown",
   "metadata": {},
   "source": [
    "Load data and construct % particle distribution dataframe (all runs, sessions, subjects)"
   ]
  },
  {
   "cell_type": "code",
   "execution_count": 6,
   "metadata": {},
   "outputs": [],
   "source": [
    "# Load file structure\n",
    "path = Path(\"/home/aljinich/Nanosight/rawdata\")   # replace with raw data folder path\n",
    "save = Path(\"/home/aljinich/Nanosight\")           # replace with results folder path\n",
    "layout = bids.BIDSLayout(path,validate=False)\n",
    "subjects = layout.get_subjects()\n",
    "sessions = layout.get_sessions()\n",
    "runs = layout.get_runs()"
   ]
  },
  {
   "cell_type": "code",
   "execution_count": 7,
   "metadata": {},
   "outputs": [
    {
     "name": "stdout",
     "output_type": "stream",
     "text": [
      "Subjects:\n",
      "['4099', '4013', '4018', '213', '4014', '2119', '4005', '1580', '4020', '1402', '4025', '4024', '4017', '4023', '4021', '4026', '4027', '4022', '4015', '4019', '214', '1960', '4016']\n",
      "Sessions:\n",
      "['mid', 'pre', 'post']\n",
      "Runs:\n",
      "[1, 2, 3, 4]\n"
     ]
    }
   ],
   "source": [
    "print('Subjects:'); print(subjects)\n",
    "print('Sessions:'); print(sessions)\n",
    "print('Runs:'); print(runs)\n",
    "# check that sub, ses, and run labels printed correctly; otherwise check directory for proper BIDS format and directory path"
   ]
  },
  {
   "cell_type": "code",
   "execution_count": 8,
   "metadata": {},
   "outputs": [],
   "source": [
    "# Create run-level DF\n",
    "index_labels = ['20-40','40-60','60-80','80-100','100-120','120-140','140-160','160-180','180-200','>200'] # Particle size categories\n",
    "ses_data = pd.DataFrame(columns=runs, index=index_labels)"
   ]
  },
  {
   "cell_type": "code",
   "execution_count": 9,
   "metadata": {},
   "outputs": [],
   "source": [
    "# Loop through all subjects, sessions, and runs, create subject-session sum to get run-total # of particles per size for each subject-session pair, store in df\n",
    "df = pd.DataFrame()\n",
    "for sub in subjects:\n",
    "    for session in sessions:\n",
    "        ses = ses_data.copy()\n",
    "        for run in runs:\n",
    "            # id = str(sub) + '_' + session + '_' + str(run)\n",
    "            csv_file = layout.get(subject=sub, session=session, run=run, extension='csv', return_type='file') #load csv\n",
    "            if csv_file != []:\n",
    "                run_data = pd.read_csv(csv_file[0], skiprows=88, usecols=range(7))[:-103]\n",
    "                ses.at['20-40',run] = run_data['Concentration average'][20:40].sum()\n",
    "                ses.at['40-60',run] = run_data['Concentration average'][40:60].sum()\n",
    "                ses.at['60-80',run] = run_data['Concentration average'][60:80].sum()\n",
    "                ses.at['80-100',run] = run_data['Concentration average'][80:100].sum()\n",
    "                ses.at['100-120',run] = run_data['Concentration average'][100:120].sum()\n",
    "                ses.at['120-140',run] = run_data['Concentration average'][120:140].sum()\n",
    "                ses.at['140-160',run] = run_data['Concentration average'][140:160].sum()\n",
    "                ses.at['160-180',run] = run_data['Concentration average'][160:180].sum()\n",
    "                ses.at['180-200',run] = run_data['Concentration average'][180:200].sum()\n",
    "                ses.at['>200',run] = run_data['Concentration average'][200:].sum()\n",
    "        df=pd.concat([df,pd.DataFrame(ses.mean(axis=1),columns=[f'{sub}_{session}'])], axis=1) #populate\n",
    "# df"
   ]
  },
  {
   "cell_type": "markdown",
   "metadata": {},
   "source": [
    "Convert to percentages per particle size, split into >/< 120nm, & convert to long-format"
   ]
  },
  {
   "cell_type": "code",
   "execution_count": 10,
   "metadata": {},
   "outputs": [],
   "source": [
    "# df100 with % of total particles per size as well as % of 20-120nm and 120->200nm (last 2 rows)\n",
    "df100 = pd.DataFrame()\n",
    "for col in df.columns.to_list():\n",
    "    if df[col].isnull().all(0) == False:\n",
    "        df100[col] = (df[col] / df[col].sum()) * 100 #% per category\n",
    "        df100.at['20-120%',col] = df100[col][0:5].sum() #sum% 20-120 \n",
    "        df100.at['120->200%',col] = df100[col][5:10].sum() #sum% 120->200\n",
    "    else:\n",
    "        df100.at['20-120%',col] = np.nan #keep nan\n",
    "        df100.at['120->200%',col] = np.nan\n",
    "# df100"
   ]
  },
  {
   "cell_type": "code",
   "execution_count": 11,
   "metadata": {},
   "outputs": [],
   "source": [
    "# long-format df_exo_long with only % of 20-120nm and % >120nm\n",
    "df_exo = df100.tail(2)\n",
    "df_exo.insert(0, \"size\", ['20-120nm', '120->200nm'], True) #add id col\n",
    "df_exo_long = df_exo.melt(id_vars=\"size\", value_vars=df.columns.to_list(), var_name='sub_ses', value_name='%') #long\n",
    "df_exo_long['sub'] = df_exo_long.apply(lambda row: row.sub_ses.split('_',1)[0], axis=1)\n",
    "df_exo_long['ses'] = df_exo_long.apply(lambda row: row.sub_ses.split('_',1)[-1], axis=1) #split sub & ses\n",
    "del df_exo_long['sub_ses']\n",
    "df_exo_long = df_exo_long[['sub','ses','size','%']] #reorder cols\n",
    "# df_exo_long"
   ]
  },
  {
   "cell_type": "code",
   "execution_count": 12,
   "metadata": {},
   "outputs": [],
   "source": [
    "# long-format for all % size categories\n",
    "df100.insert(0,\"size\", df100.index.to_list(), True)\n",
    "df100_long = df100.head(10).melt(id_vars=\"size\", value_vars=df100.columns.to_list(), var_name='sub_ses', value_name='%') #long\n",
    "df100_long['sub'] = df100_long.apply(lambda row: row.sub_ses.split('_',1)[0], axis=1)\n",
    "df100_long['ses'] = df100_long.apply(lambda row: row.sub_ses.split('_',1)[-1], axis=1) #split sub & ses\n",
    "del df100_long['sub_ses']\n",
    "df100_long = df100_long[['sub','ses','size','%']] #reorder cols\n",
    "# df100_long"
   ]
  },
  {
   "cell_type": "markdown",
   "metadata": {},
   "source": [
    "#### Plots & Stats Tests"
   ]
  },
  {
   "cell_type": "markdown",
   "metadata": {},
   "source": [
    "1. Split Btw 20-120 and 120+ nm"
   ]
  },
  {
   "cell_type": "code",
   "execution_count": 13,
   "metadata": {},
   "outputs": [
    {
     "data": {
      "image/png": "[encoded data removed]",
      "text/plain": [
       "<Figure size 360x288 with 1 Axes>"
      ]
     },
     "metadata": {
      "needs_background": "light"
     },
     "output_type": "display_data"
    }
   ],
   "source": [
    "sns.set_theme(style=\"ticks\", palette=\"Set2\", font_scale=.9)\n",
    "fig, ax = plt.subplots(figsize=(5, 4))\n",
    "sns.pointplot(data=df_exo_long, x='ses', y='%', hue='size', \n",
    "             order=['pre','mid','post'], errorbar=(\"ci\", 95), errwidth=2, capsize=.05, join=True, dodge=True)  # edit order based on # & name of sessions\n",
    "ax.set_xlabel('session'); ax.set_ylabel('% of particles'); ax.legend().set_title('')\n",
    "plt.text(.65,69, \"95% CI\", horizontalalignment='left', size='small', color='grey')\n",
    "\n",
    "save.joinpath(\"figures\").mkdir(exist_ok=True)\n",
    "plt.savefig(f'{save}/figures/exosomes_by_session.png', dpi=300, facecolor='white')"
   ]
  },
  {
   "cell_type": "code",
   "execution_count": 14,
   "metadata": {},
   "outputs": [
    {
     "data": {
      "text/html": [
       "<div>\n",
       "<style scoped>\n",
       "    .dataframe tbody tr th:only-of-type {\n",
       "        vertical-align: middle;\n",
       "    }\n",
       "\n",
       "    .dataframe tbody tr th {\n",
       "        vertical-align: top;\n",
       "    }\n",
       "\n",
       "    .dataframe thead th {\n",
       "        text-align: right;\n",
       "    }\n",
       "</style>\n",
       "<table border=\"1\" class=\"dataframe\">\n",
       "  <thead>\n",
       "    <tr style=\"text-align: right;\">\n",
       "      <th></th>\n",
       "      <th>Contrast</th>\n",
       "      <th>ses</th>\n",
       "      <th>A</th>\n",
       "      <th>B</th>\n",
       "      <th>Paired</th>\n",
       "      <th>Parametric</th>\n",
       "      <th>T</th>\n",
       "      <th>dof</th>\n",
       "      <th>alternative</th>\n",
       "      <th>p-unc</th>\n",
       "      <th>BF10</th>\n",
       "      <th>cohen</th>\n",
       "    </tr>\n",
       "  </thead>\n",
       "  <tbody>\n",
       "    <tr>\n",
       "      <th>0</th>\n",
       "      <td>ses</td>\n",
       "      <td>-</td>\n",
       "      <td>mid</td>\n",
       "      <td>post</td>\n",
       "      <td>True</td>\n",
       "      <td>True</td>\n",
       "      <td>-0.565685</td>\n",
       "      <td>16.0</td>\n",
       "      <td>two-sided</td>\n",
       "      <td>0.579455</td>\n",
       "      <td>0.287</td>\n",
       "      <td>0.000000</td>\n",
       "    </tr>\n",
       "    <tr>\n",
       "      <th>1</th>\n",
       "      <td>ses</td>\n",
       "      <td>-</td>\n",
       "      <td>mid</td>\n",
       "      <td>pre</td>\n",
       "      <td>True</td>\n",
       "      <td>True</td>\n",
       "      <td>1.460593</td>\n",
       "      <td>16.0</td>\n",
       "      <td>two-sided</td>\n",
       "      <td>0.163485</td>\n",
       "      <td>0.611</td>\n",
       "      <td>0.000000</td>\n",
       "    </tr>\n",
       "    <tr>\n",
       "      <th>2</th>\n",
       "      <td>ses</td>\n",
       "      <td>-</td>\n",
       "      <td>post</td>\n",
       "      <td>pre</td>\n",
       "      <td>True</td>\n",
       "      <td>True</td>\n",
       "      <td>1.851640</td>\n",
       "      <td>16.0</td>\n",
       "      <td>two-sided</td>\n",
       "      <td>0.082622</td>\n",
       "      <td>1.003</td>\n",
       "      <td>0.000000</td>\n",
       "    </tr>\n",
       "    <tr>\n",
       "      <th>3</th>\n",
       "      <td>size</td>\n",
       "      <td>-</td>\n",
       "      <td>120-&gt;200nm</td>\n",
       "      <td>20-120nm</td>\n",
       "      <td>False</td>\n",
       "      <td>True</td>\n",
       "      <td>3.370099</td>\n",
       "      <td>32.0</td>\n",
       "      <td>two-sided</td>\n",
       "      <td>0.001975</td>\n",
       "      <td>17.908</td>\n",
       "      <td>1.155934</td>\n",
       "    </tr>\n",
       "    <tr>\n",
       "      <th>4</th>\n",
       "      <td>ses * size</td>\n",
       "      <td>mid</td>\n",
       "      <td>120-&gt;200nm</td>\n",
       "      <td>20-120nm</td>\n",
       "      <td>False</td>\n",
       "      <td>True</td>\n",
       "      <td>0.889410</td>\n",
       "      <td>32.0</td>\n",
       "      <td>two-sided</td>\n",
       "      <td>0.380420</td>\n",
       "      <td>0.446</td>\n",
       "      <td>0.305065</td>\n",
       "    </tr>\n",
       "    <tr>\n",
       "      <th>5</th>\n",
       "      <td>ses * size</td>\n",
       "      <td>post</td>\n",
       "      <td>120-&gt;200nm</td>\n",
       "      <td>20-120nm</td>\n",
       "      <td>False</td>\n",
       "      <td>True</td>\n",
       "      <td>5.988716</td>\n",
       "      <td>32.0</td>\n",
       "      <td>two-sided</td>\n",
       "      <td>0.000001</td>\n",
       "      <td>1.098e+04</td>\n",
       "      <td>2.054113</td>\n",
       "    </tr>\n",
       "    <tr>\n",
       "      <th>6</th>\n",
       "      <td>ses * size</td>\n",
       "      <td>pre</td>\n",
       "      <td>120-&gt;200nm</td>\n",
       "      <td>20-120nm</td>\n",
       "      <td>False</td>\n",
       "      <td>True</td>\n",
       "      <td>0.374772</td>\n",
       "      <td>32.0</td>\n",
       "      <td>two-sided</td>\n",
       "      <td>0.710302</td>\n",
       "      <td>0.347</td>\n",
       "      <td>0.128546</td>\n",
       "    </tr>\n",
       "  </tbody>\n",
       "</table>\n",
       "</div>"
      ],
      "text/plain": [
       "     Contrast   ses           A         B Paired  Parametric         T   dof  \\\n",
       "0         ses     -         mid      post   True        True -0.565685  16.0   \n",
       "1         ses     -         mid       pre   True        True  1.460593  16.0   \n",
       "2         ses     -        post       pre   True        True  1.851640  16.0   \n",
       "3        size     -  120->200nm  20-120nm  False        True  3.370099  32.0   \n",
       "4  ses * size   mid  120->200nm  20-120nm  False        True  0.889410  32.0   \n",
       "5  ses * size  post  120->200nm  20-120nm  False        True  5.988716  32.0   \n",
       "6  ses * size   pre  120->200nm  20-120nm  False        True  0.374772  32.0   \n",
       "\n",
       "  alternative     p-unc       BF10     cohen  \n",
       "0   two-sided  0.579455      0.287  0.000000  \n",
       "1   two-sided  0.163485      0.611  0.000000  \n",
       "2   two-sided  0.082622      1.003  0.000000  \n",
       "3   two-sided  0.001975     17.908  1.155934  \n",
       "4   two-sided  0.380420      0.446  0.305065  \n",
       "5   two-sided  0.000001  1.098e+04  2.054113  \n",
       "6   two-sided  0.710302      0.347  0.128546  "
      ]
     },
     "execution_count": 14,
     "metadata": {},
     "output_type": "execute_result"
    }
   ],
   "source": [
    "# t-tests (between=particle-size, within=session)\n",
    "pg.pairwise_tests(data=df_exo_long, dv='%', between='size', within='ses', subject='sub', parametric=True, marginal=True, alpha=0.05, alternative='two-sided', \n",
    "                padjust='none', effsize='cohen', correction='auto', nan_policy='listwise', return_desc=False, interaction=True, within_first=True)"
   ]
  },
  {
   "cell_type": "markdown",
   "metadata": {},
   "source": [
    "2. Particle Size Distribution "
   ]
  },
  {
   "cell_type": "code",
   "execution_count": 15,
   "metadata": {},
   "outputs": [],
   "source": [
    "df100_long_mean = df100_long.groupby(['ses','size'], sort=False).mean().reset_index()\n",
    "# df100_long_mean"
   ]
  },
  {
   "cell_type": "code",
   "execution_count": 16,
   "metadata": {},
   "outputs": [
    {
     "data": {
      "text/html": [
       "<div>\n",
       "<style scoped>\n",
       "    .dataframe tbody tr th:only-of-type {\n",
       "        vertical-align: middle;\n",
       "    }\n",
       "\n",
       "    .dataframe tbody tr th {\n",
       "        vertical-align: top;\n",
       "    }\n",
       "\n",
       "    .dataframe thead th {\n",
       "        text-align: right;\n",
       "    }\n",
       "</style>\n",
       "<table border=\"1\" class=\"dataframe\">\n",
       "  <thead>\n",
       "    <tr style=\"text-align: right;\">\n",
       "      <th></th>\n",
       "      <th>level_0</th>\n",
       "      <th>index</th>\n",
       "      <th>Size</th>\n",
       "      <th>Contrast</th>\n",
       "      <th>A</th>\n",
       "      <th>B</th>\n",
       "      <th>Paired</th>\n",
       "      <th>Parametric</th>\n",
       "      <th>T</th>\n",
       "      <th>dof</th>\n",
       "      <th>alternative</th>\n",
       "      <th>p-unc</th>\n",
       "      <th>BF10</th>\n",
       "      <th>cohen</th>\n",
       "      <th>sig</th>\n",
       "    </tr>\n",
       "  </thead>\n",
       "  <tbody>\n",
       "    <tr>\n",
       "      <th>0</th>\n",
       "      <td>2</td>\n",
       "      <td>1</td>\n",
       "      <td>40-60</td>\n",
       "      <td>ses</td>\n",
       "      <td>post</td>\n",
       "      <td>pre</td>\n",
       "      <td>True</td>\n",
       "      <td>True</td>\n",
       "      <td>-2.340978</td>\n",
       "      <td>16.0</td>\n",
       "      <td>two-sided</td>\n",
       "      <td>0.032511</td>\n",
       "      <td>2.064</td>\n",
       "      <td>-0.695887</td>\n",
       "      <td>*</td>\n",
       "    </tr>\n",
       "    <tr>\n",
       "      <th>1</th>\n",
       "      <td>0</td>\n",
       "      <td>2</td>\n",
       "      <td>60-80</td>\n",
       "      <td>ses</td>\n",
       "      <td>mid</td>\n",
       "      <td>post</td>\n",
       "      <td>True</td>\n",
       "      <td>True</td>\n",
       "      <td>2.201284</td>\n",
       "      <td>16.0</td>\n",
       "      <td>two-sided</td>\n",
       "      <td>0.04274</td>\n",
       "      <td>1.663</td>\n",
       "      <td>0.801876</td>\n",
       "      <td>*</td>\n",
       "    </tr>\n",
       "    <tr>\n",
       "      <th>2</th>\n",
       "      <td>2</td>\n",
       "      <td>2</td>\n",
       "      <td>60-80</td>\n",
       "      <td>ses</td>\n",
       "      <td>post</td>\n",
       "      <td>pre</td>\n",
       "      <td>True</td>\n",
       "      <td>True</td>\n",
       "      <td>-3.528457</td>\n",
       "      <td>16.0</td>\n",
       "      <td>two-sided</td>\n",
       "      <td>0.002791</td>\n",
       "      <td>15.691</td>\n",
       "      <td>-0.952678</td>\n",
       "      <td>**</td>\n",
       "    </tr>\n",
       "    <tr>\n",
       "      <th>3</th>\n",
       "      <td>0</td>\n",
       "      <td>9</td>\n",
       "      <td>&gt;200</td>\n",
       "      <td>ses</td>\n",
       "      <td>mid</td>\n",
       "      <td>post</td>\n",
       "      <td>True</td>\n",
       "      <td>True</td>\n",
       "      <td>-2.882193</td>\n",
       "      <td>16.0</td>\n",
       "      <td>two-sided</td>\n",
       "      <td>0.010834</td>\n",
       "      <td>5.031</td>\n",
       "      <td>-0.961269</td>\n",
       "      <td>*</td>\n",
       "    </tr>\n",
       "    <tr>\n",
       "      <th>4</th>\n",
       "      <td>2</td>\n",
       "      <td>9</td>\n",
       "      <td>&gt;200</td>\n",
       "      <td>ses</td>\n",
       "      <td>post</td>\n",
       "      <td>pre</td>\n",
       "      <td>True</td>\n",
       "      <td>True</td>\n",
       "      <td>2.325182</td>\n",
       "      <td>16.0</td>\n",
       "      <td>two-sided</td>\n",
       "      <td>0.03354</td>\n",
       "      <td>2.013</td>\n",
       "      <td>0.682963</td>\n",
       "      <td>*</td>\n",
       "    </tr>\n",
       "  </tbody>\n",
       "</table>\n",
       "</div>"
      ],
      "text/plain": [
       "   level_0  index   Size Contrast     A     B Paired Parametric         T  \\\n",
       "0        2      1  40-60      ses  post   pre   True       True -2.340978   \n",
       "1        0      2  60-80      ses   mid  post   True       True  2.201284   \n",
       "2        2      2  60-80      ses  post   pre   True       True -3.528457   \n",
       "3        0      9   >200      ses   mid  post   True       True -2.882193   \n",
       "4        2      9   >200      ses  post   pre   True       True  2.325182   \n",
       "\n",
       "    dof alternative     p-unc    BF10     cohen sig  \n",
       "0  16.0   two-sided  0.032511   2.064 -0.695887   *  \n",
       "1  16.0   two-sided   0.04274   1.663  0.801876   *  \n",
       "2  16.0   two-sided  0.002791  15.691 -0.952678  **  \n",
       "3  16.0   two-sided  0.010834   5.031 -0.961269   *  \n",
       "4  16.0   two-sided   0.03354   2.013  0.682963   *  "
      ]
     },
     "execution_count": 16,
     "metadata": {},
     "output_type": "execute_result"
    }
   ],
   "source": [
    "# t-tests (within=sessions), show only p<.05 \n",
    "ttall = pd.DataFrame()\n",
    "for size in enumerate(df100.index[:-2].to_list()):\n",
    "    tt = pg.pairwise_tests(data=df100_long.loc[df100_long['size']==size[1],:], dv='%', within='ses', subject='sub', parametric=True, marginal=True, alpha=0.05, alternative='two-sided', \n",
    "                padjust='none', effsize='cohen', correction='auto', nan_policy='listwise', return_desc=False, interaction=True, within_first=True)\n",
    "    for contrast in [0,1,2]:\n",
    "        if tt.loc[contrast,'p-unc'] < 0.05:\n",
    "            sigt = pd.DataFrame(tt.loc[contrast,:]).T\n",
    "            sigt.insert(0,'Size',size[1])\n",
    "            sigt.insert(0,'index',size[0])\n",
    "            ttall = pd.concat([ttall,sigt],axis=0)\n",
    "# significance asterisks\n",
    "def convert_pvalue_to_asterisks(pvalue):\n",
    "    if pvalue <= 0.0001:\n",
    "        return \"****\"\n",
    "    elif pvalue <= 0.001:\n",
    "        return \"***\"\n",
    "    elif pvalue <= 0.01:\n",
    "        return \"**\"\n",
    "    elif pvalue <= 0.05:\n",
    "        return \"*\"\n",
    "    return \"\"\n",
    "ttall['sig'] = ttall['p-unc'].apply(convert_pvalue_to_asterisks)\n",
    "ttall.reset_index(inplace=True)\n",
    "ttall"
   ]
  },
  {
   "cell_type": "code",
   "execution_count": 17,
   "metadata": {},
   "outputs": [],
   "source": [
    "# repeat t-tests removing larger sig value per particle size for plotting 1 sig asterisk per particle size (x tick)\n",
    "ttall = pd.DataFrame()\n",
    "for size in enumerate(df100.index[:-2].to_list()):\n",
    "    tt = pg.pairwise_tests(data=df100_long.loc[df100_long['size']==size[1],:], dv='%', within='ses', subject='sub', parametric=True, marginal=True, alpha=0.05, alternative='two-sided', \n",
    "                padjust='none', effsize='cohen', correction='auto', nan_policy='listwise', return_desc=False, interaction=True, within_first=True)\n",
    "    tt = tt.nsmallest(1,'p-unc','first')\n",
    "    if tt.iat[0,8] < 0.05:\n",
    "        tt.insert(0,'Size',size[1])\n",
    "        tt.insert(0,'index',size[0])\n",
    "        ttall = pd.concat([ttall,tt],axis=0)\n",
    "ttall['sig'] = ttall['p-unc'].apply(convert_pvalue_to_asterisks)\n",
    "ttall.reset_index(inplace=True)"
   ]
  },
  {
   "cell_type": "code",
   "execution_count": 24,
   "metadata": {},
   "outputs": [
    {
     "data": {
      "image/png": "[encoded data removed]",
      "text/plain": [
       "<Figure size 576x360 with 1 Axes>"
      ]
     },
     "metadata": {},
     "output_type": "display_data"
    }
   ],
   "source": [
    "# plot\n",
    "sns.set_theme(style=\"ticks\", palette=\"Set2\", font_scale=.9)\n",
    "fig, ax = plt.subplots(figsize=(8, 5))\n",
    "sns.pointplot(\n",
    "    data=df100_long, x='size', y='%', hue='ses', hue_order=['pre','mid','post'], scale = .7, \n",
    "    errorbar=(\"ci\", 95), capsize=.05, errwidth=1, dodge=True\n",
    "    )\n",
    "ax.set_xlabel('size (nm)'); ax.set_ylabel('% of particles'); ax.legend().set_title('')\n",
    "plt.text(0,20.5, \"95% CI\", horizontalalignment='left', size='small', color='grey')\n",
    "\n",
    "for i in ttall.index.to_list():  # add significance asterisks\n",
    "    plt.text(x=ttall.iloc[i,1], y=-5, s=ttall.iloc[i,14], ha='center', rotation='horizontal', fontsize=14, color='#8da0cb')\n",
    "\n",
    "save.joinpath(\"figures\").mkdir(exist_ok=True) # save img\n",
    "plt.savefig(f'{save}/figures/exosomes_by_size.png', dpi=300, facecolor='white')"
   ]
  },
  {
   "cell_type": "markdown",
   "metadata": {},
   "source": [
    "Export dfs"
   ]
  },
  {
   "cell_type": "code",
   "execution_count": 515,
   "metadata": {},
   "outputs": [],
   "source": [
    "save.joinpath(\"exosome_dfs\").mkdir(exist_ok=True)\n",
    "df_exo_long.to_csv(f'{save}/exosome_dfs/exosomes_long.csv') \n",
    "df100_long.to_csv(f'{save}/exosome_dfs/percentages_long.csv')"
   ]
  }
 ],
 "metadata": {
  "kernelspec": {
   "display_name": "Python 3.10.6 ('nilearn': venv)",
   "language": "python",
   "name": "python3"
  },
  "language_info": {
   "codemirror_mode": {
    "name": "ipython",
    "version": 3
   },
   "file_extension": ".py",
   "mimetype": "text/x-python",
   "name": "python",
   "nbconvert_exporter": "python",
   "pygments_lexer": "ipython3",
   "version": "3.10.6"
  },
  "orig_nbformat": 4,
  "vscode": {
   "interpreter": {
    "hash": "bbc1f4df1c2f5751faa0e1daf7304e63a9ab0c191964f1535f6046e319ebe3a4"
   }
  }
 },
 "nbformat": 4,
 "nbformat_minor": 2
}
